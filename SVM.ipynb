{
 "cells": [
  {
   "cell_type": "code",
   "execution_count": 1,
   "metadata": {},
   "outputs": [],
   "source": [
    "import time\n",
    "import os\n",
    "\n",
    "import matplotlib.pyplot as plt\n",
    "import numpy as np\n",
    "import pandas as pd\n",
    "import seaborn as sns\n",
    "\n",
    "from sklearn.utils import shuffle\n",
    "from sklearn.preprocessing import StandardScaler\n",
    "from sklearn.metrics import confusion_matrix\n",
    "from sklearn.decomposition import PCA\n",
    "from sklearn.model_selection import GridSearchCV\n",
    "from sklearn.multiclass import OneVsRestClassifier\n",
    "from sklearn.svm import SVC\n",
    "\n",
    "import utils"
   ]
  },
  {
   "cell_type": "code",
   "execution_count": 2,
   "metadata": {},
   "outputs": [],
   "source": [
    "tracks = utils.load('/Users/ivankwist/Downloads/fma_metadata/tracks.csv')\n",
    "features = utils.load('/Users/ivankwist/Downloads/fma_metadata/features.csv')"
   ]
  },
  {
   "cell_type": "code",
   "execution_count": 3,
   "metadata": {},
   "outputs": [
    {
     "name": "stderr",
     "output_type": "stream",
     "text": [
      "/opt/anaconda3/lib/python3.7/site-packages/ipykernel_launcher.py:11: FutureWarning: Method .as_matrix will be removed in a future version. Use .values instead.\n",
      "  # This is added back by InteractiveShellApp.init_path()\n",
      "/opt/anaconda3/lib/python3.7/site-packages/ipykernel_launcher.py:12: FutureWarning: Method .as_matrix will be removed in a future version. Use .values instead.\n",
      "  if sys.path[0] == '':\n"
     ]
    },
    {
     "data": {
      "text/plain": [
       "array([[ 0.1253238 ,  0.59807614, -0.10177305, ..., -0.10643952,\n",
       "        -0.8105098 , -0.84468934],\n",
       "       [-0.34768999, -0.35213792, -0.0645586 , ..., -0.51699423,\n",
       "        -0.23005883,  1.11347606],\n",
       "       [-0.0231874 , -0.03538058, -0.03524516, ..., -0.51699423,\n",
       "         0.08205794,  0.54353052],\n",
       "       ...,\n",
       "       [-0.47744417, -0.39346363, -0.15097715, ..., -0.31171687,\n",
       "         0.04967999,  2.57694115],\n",
       "       [-0.52918994, -0.47181669, -0.1345473 , ..., -0.10643952,\n",
       "         1.22919953,  1.71213092],\n",
       "       [-0.46718922, -0.3620704 , -0.06173892, ...,  1.33050197,\n",
       "        -0.01398353,  3.47595249]])"
      ]
     },
     "execution_count": 3,
     "metadata": {},
     "output_type": "execute_result"
    }
   ],
   "source": [
    "subset = tracks.index[tracks['set', 'subset'] <= 'small']\n",
    "tracks = tracks.loc[subset]\n",
    "features = features.loc[subset]\n",
    "\n",
    "train = tracks.index[tracks['set', 'split'] == 'training']\n",
    "test = tracks.index[tracks['set', 'split'] == 'test']\n",
    "labels = tracks['track', 'genre_top']\n",
    "\n",
    "y_train = labels[train]\n",
    "y_test = labels[test]\n",
    "X_train = features.loc[train].as_matrix()\n",
    "X_test = features.loc[test].as_matrix()\n",
    "\n",
    "X_train, y_train = shuffle(X_train, y_train, random_state=25)\n",
    "\n",
    "scaler = StandardScaler(copy=False)\n",
    "scaler.fit_transform(X_train)\n",
    "scaler.transform(X_test)"
   ]
  },
  {
   "cell_type": "code",
   "execution_count": 4,
   "metadata": {},
   "outputs": [],
   "source": [
    "model_to_set = OneVsRestClassifier(SVC(gamma='auto'))\n",
    "\n",
    "parameters = {\n",
    "    \"estimator__C\": [1,3,5,7,9],\n",
    "}"
   ]
  },
  {
   "cell_type": "code",
   "execution_count": 5,
   "metadata": {},
   "outputs": [],
   "source": [
    "gs = GridSearchCV(model_to_set, param_grid=parameters, verbose = 10, cv = 2, n_jobs = -1)"
   ]
  },
  {
   "cell_type": "code",
   "execution_count": 6,
   "metadata": {},
   "outputs": [
    {
     "name": "stdout",
     "output_type": "stream",
     "text": [
      "Fitting 2 folds for each of 5 candidates, totalling 10 fits\n"
     ]
    },
    {
     "name": "stderr",
     "output_type": "stream",
     "text": [
      "[Parallel(n_jobs=-1)]: Using backend LokyBackend with 2 concurrent workers.\n",
      "[Parallel(n_jobs=-1)]: Done   1 tasks      | elapsed:  2.3min\n",
      "[Parallel(n_jobs=-1)]: Done   4 tasks      | elapsed:  4.8min\n",
      "[Parallel(n_jobs=-1)]: Done  10 out of  10 | elapsed: 12.4min finished\n"
     ]
    }
   ],
   "source": [
    "gs_results = gs.fit(X_train, y_train)"
   ]
  },
  {
   "cell_type": "code",
   "execution_count": 7,
   "metadata": {},
   "outputs": [
    {
     "data": {
      "text/plain": [
       "{'estimator__C': 5}"
      ]
     },
     "execution_count": 7,
     "metadata": {},
     "output_type": "execute_result"
    }
   ],
   "source": [
    "gs_results.best_params_"
   ]
  },
  {
   "cell_type": "code",
   "execution_count": 8,
   "metadata": {},
   "outputs": [
    {
     "name": "stdout",
     "output_type": "stream",
     "text": [
      "0.46\n"
     ]
    }
   ],
   "source": [
    "score_gs = gs_results.score(X_test, y_test)\n",
    "print(score_gs)"
   ]
  },
  {
   "cell_type": "code",
   "execution_count": 9,
   "metadata": {},
   "outputs": [],
   "source": [
    "y_pred = gs_results.predict(X_test)"
   ]
  },
  {
   "cell_type": "code",
   "execution_count": 10,
   "metadata": {},
   "outputs": [],
   "source": [
    "cf_matrix = confusion_matrix(y_test, y_pred)"
   ]
  },
  {
   "cell_type": "code",
   "execution_count": 11,
   "metadata": {},
   "outputs": [
    {
     "data": {
      "image/png": "[encoded data removed]",
      "text/plain": [
       "<Figure size 648x648 with 2 Axes>"
      ]
     },
     "metadata": {
      "needs_background": "light"
     },
     "output_type": "display_data"
    }
   ],
   "source": [
    "fig, ax = plt.subplots(figsize=(9, 9))\n",
    "sns.heatmap(cf_matrix, cmap='viridis', vmin=0, vmax=75, square=True, annot=True)\n",
    "\n",
    "ticks_labels = ['Elec', 'Exp', 'Folk', 'Hip-Hop', 'Instr', 'Inter', 'Pop', 'Rock']\n",
    "plt.xticks(np.arange(8) + .5, labels=ticks_labels, fontsize = 10)\n",
    "plt.yticks(np.arange(8) + .5, labels=ticks_labels, va=\"center\", fontsize = 10)\n",
    "\n",
    "plt.title('SVM', fontsize = 16, weight='bold')\n",
    "plt.xlabel('Predicción', weight='bold')\n",
    "plt.ylabel('Real', weight='bold')\n",
    "\n",
    "bottom, top = ax.get_ylim()\n",
    "ax.set_ylim(bottom + 0.5, top - 0.5)\n",
    "\n",
    "plt.savefig('fig-SVM.png', dpi=400, bbox_inches='tight')\n",
    "plt.show()"
   ]
  },
  {
   "cell_type": "code",
   "execution_count": 12,
   "metadata": {},
   "outputs": [],
   "source": [
    "pca = PCA(n_components = 0.97)\n",
    "X_train_pca = pca.fit_transform(X_train)\n",
    "X_test_pca = pca.transform(X_test)"
   ]
  },
  {
   "cell_type": "code",
   "execution_count": null,
   "metadata": {},
   "outputs": [
    {
     "name": "stdout",
     "output_type": "stream",
     "text": [
      "Fitting 2 folds for each of 5 candidates, totalling 10 fits\n"
     ]
    },
    {
     "name": "stderr",
     "output_type": "stream",
     "text": [
      "[Parallel(n_jobs=-1)]: Using backend LokyBackend with 2 concurrent workers.\n",
      "[Parallel(n_jobs=-1)]: Done   1 tasks      | elapsed:  1.5min\n",
      "[Parallel(n_jobs=-1)]: Done   4 tasks      | elapsed:  3.4min\n",
      "[Parallel(n_jobs=-1)]: Done  10 out of  10 | elapsed:  9.3min finished\n"
     ]
    }
   ],
   "source": [
    "gs_results_pca = gs.fit(X_train_pca, y_train)"
   ]
  },
  {
   "cell_type": "code",
   "execution_count": null,
   "metadata": {},
   "outputs": [],
   "source": [
    "gs_results_pca.best_params_"
   ]
  },
  {
   "cell_type": "code",
   "execution_count": null,
   "metadata": {},
   "outputs": [],
   "source": [
    "score_gs_pca = gs_results_pca.score(X_test_pca, y_test)\n",
    "print(score_gs_pca)"
   ]
  },
  {
   "cell_type": "code",
   "execution_count": null,
   "metadata": {},
   "outputs": [],
   "source": [
    "y_pred_pca = gs_results.predict(X_test_pca)"
   ]
  },
  {
   "cell_type": "code",
   "execution_count": null,
   "metadata": {},
   "outputs": [],
   "source": [
    "cf_matrix_pca = confusion_matrix(y_test, y_pred_pca)"
   ]
  },
  {
   "cell_type": "code",
   "execution_count": null,
   "metadata": {},
   "outputs": [],
   "source": [
    "fig, ax = plt.subplots(figsize=(9, 9))\n",
    "sns.heatmap(cf_matrix_pca, cmap='viridis', vmin=0, vmax=75, square=True, annot=True)\n",
    "\n",
    "ticks_labels = ['Elec', 'Exp', 'Folk', 'Hip-Hop', 'Instr', 'Inter', 'Pop', 'Rock']\n",
    "plt.xticks(np.arange(8) + .5, labels=ticks_labels, fontsize = 10)\n",
    "plt.yticks(np.arange(8) + .5, labels=ticks_labels, va=\"center\", fontsize = 10)\n",
    "\n",
    "plt.title('SVM con PCA', fontsize = 16, weight='bold')\n",
    "plt.xlabel('Predicción', weight='bold')\n",
    "plt.ylabel('Real', weight='bold')\n",
    "\n",
    "bottom, top = ax.get_ylim()\n",
    "ax.set_ylim(bottom + 0.5, top - 0.5)\n",
    "\n",
    "plt.savefig('fig-SVM-PCA.png', dpi=400, bbox_inches='tight')\n",
    "plt.show()"
   ]
  },
  {
   "cell_type": "code",
   "execution_count": null,
   "metadata": {},
   "outputs": [],
   "source": []
  }
 ],
 "metadata": {
  "kernelspec": {
   "display_name": "Python 3",
   "language": "python",
   "name": "python3"
  },
  "language_info": {
   "codemirror_mode": {
    "name": "ipython",
    "version": 3
   },
   "file_extension": ".py",
   "mimetype": "text/x-python",
   "name": "python",
   "nbconvert_exporter": "python",
   "pygments_lexer": "ipython3",
   "version": "3.7.4"
  }
 },
 "nbformat": 4,
 "nbformat_minor": 2
}
